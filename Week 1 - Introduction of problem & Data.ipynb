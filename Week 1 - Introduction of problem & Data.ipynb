{
    "cells": [
        {
            "cell_type": "markdown",
            "metadata": {
                "collapsed": true
            },
            "source": "# <h1 align=center><font size = 5>The Battle of Neighborhoods (Week 1)</font></h1>"
        },
        {
            "cell_type": "markdown",
            "metadata": {},
            "source": "## 1:- Introduction / Business Problem"
        },
        {
            "cell_type": "markdown",
            "metadata": {},
            "source": "### Problem Statement: Finding a good Neighborhood for opening an Indian Restaurant in New Delhi, IN"
        },
        {
            "cell_type": "raw",
            "metadata": {},
            "source": "This study aims at helping people planning on opening an Indian Restaurant in the New Delhi,IN area by choosing the right location by providing data about Neighborhoods and nearby competitors.\nNew Delhi is an urban district located in the city of Delhi which serves as the capital of India. New Delhi is the largest commercial city in northern India."
        },
        {
            "cell_type": "markdown",
            "metadata": {},
            "source": "### Target Audience:"
        },
        {
            "cell_type": "raw",
            "metadata": {},
            "source": "1- Working From Home Population ordering meal-ready meals looking for a nearby meal-prepping restaurant.\n2- Freelancers looking into opening a restaurant. This will provide an analysis whether the venture is feasible or not.\n"
        },
        {
            "cell_type": "markdown",
            "metadata": {},
            "source": "## 2:- Downloading and Prepping Data"
        },
        {
            "cell_type": "raw",
            "metadata": {},
            "source": "Delhi has a total of 9 boroughs and 163 neighborhoods. In order to analyse the neighborhoods and explore them, we will essentially need a dataset that contains the 9 boroughs and the neighborhoods that exist in each borough as well as the the latitude and logitude coordinates of each neighborhood.\n\nLuckily, this dataset exists for free on the Kaggle's website, here is the link to the dataset: https://www.kaggle.com/shaswatd673/delhi-neighborhood-data#delhi_dataSet.csv\n\nI will use the Foursquare API to explore the neighborhoods and segment them."
        }
    ],
    "metadata": {
        "kernelspec": {
            "display_name": "Python 3.6",
            "language": "python",
            "name": "python3"
        },
        "language_info": {
            "codemirror_mode": {
                "name": "ipython",
                "version": 3
            },
            "file_extension": ".py",
            "mimetype": "text/x-python",
            "name": "python",
            "nbconvert_exporter": "python",
            "pygments_lexer": "ipython3",
            "version": "3.6.9"
        }
    },
    "nbformat": 4,
    "nbformat_minor": 1
}
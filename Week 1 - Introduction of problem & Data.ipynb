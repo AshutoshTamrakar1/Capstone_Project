{
    "cells": [
        {
            "cell_type": "markdown",
            "metadata": {
                "collapsed": true
            },
            "source": "# The Battle of Neighborhoods (Week 1)"
        },
        {
            "cell_type": "markdown",
            "metadata": {},
            "source": "## 1:- Introduction / Business Problem"
        },
        {
            "cell_type": "markdown",
            "metadata": {},
            "source": "### Problem Statement: Finding a good Neighborhood for opening an Indian Restaurant in New Delhi, IN"
        },
        {
            "cell_type": "markdown",
            "metadata": {},
            "source": "This study aims at helping people planning on opening an Indian Restaurant in the New Delhi,IN area by choosing the right location by providing data about Neighborhoods and nearby competitors.\nNew Delhi is an urban district located in the city of Delhi which serves as the capital of India. New Delhi is the largest commercial city in northern India."
        },
        {
            "cell_type": "markdown",
            "metadata": {},
            "source": "### Target Audience:"
        },
        {
            "cell_type": "markdown",
            "metadata": {},
            "source": "1- Working From Home Population ordering meal-ready meals looking for a nearby meal-prepping restaurant.\n2- Freelancers looking into opening a restaurant. This will provide an analysis whether the venture is feasible or not.\n"
        },
        {
            "cell_type": "markdown",
            "metadata": {},
            "source": "## 2:- Downloading and Prepping Data"
        },
        {
            "cell_type": "markdown",
            "metadata": {},
            "source": "Delhi has a total of 9 boroughs and 163 neighborhoods. In order to analyse the neighborhoods and explore them, we will essentially need a dataset that contains the 9 boroughs and the neighborhoods that exist in each borough as well as the the latitude and logitude coordinates of each neighborhood.\n\nLuckily, this dataset exists for free on the Kaggle's website, here is the link to the dataset: https://www.kaggle.com/shaswatd673/delhi-neighborhood-data#delhi_dataSet.csv\n\nI will use the Foursquare API to explore the neighborhoods and segment them."
        },
        {
            "cell_type": "code",
            "execution_count": 5,
            "metadata": {},
            "outputs": [
                {
                    "data": {
                        "text/html": "<div>\n<style scoped>\n    .dataframe tbody tr th:only-of-type {\n        vertical-align: middle;\n    }\n\n    .dataframe tbody tr th {\n        vertical-align: top;\n    }\n\n    .dataframe thead th {\n        text-align: right;\n    }\n</style>\n<table border=\"1\" class=\"dataframe\">\n  <thead>\n    <tr style=\"text-align: right;\">\n      <th></th>\n      <th>Unnamed: 0</th>\n      <th>Borough</th>\n      <th>Neighborhood</th>\n      <th>latitude</th>\n      <th>longitude</th>\n    </tr>\n  </thead>\n  <tbody>\n    <tr>\n      <th>0</th>\n      <td>0</td>\n      <td>North West Delhi</td>\n      <td>Adarsh Nagar</td>\n      <td>28.614192</td>\n      <td>77.071541</td>\n    </tr>\n    <tr>\n      <th>1</th>\n      <td>1</td>\n      <td>North West Delhi</td>\n      <td>Ashok Vihar</td>\n      <td>28.699453</td>\n      <td>77.184826</td>\n    </tr>\n    <tr>\n      <th>2</th>\n      <td>2</td>\n      <td>North West Delhi</td>\n      <td>Azadpur</td>\n      <td>28.707657</td>\n      <td>77.175547</td>\n    </tr>\n    <tr>\n      <th>3</th>\n      <td>3</td>\n      <td>North West Delhi</td>\n      <td>Bawana</td>\n      <td>28.799660</td>\n      <td>77.032885</td>\n    </tr>\n    <tr>\n      <th>4</th>\n      <td>4</td>\n      <td>North West Delhi</td>\n      <td>Begum Pur</td>\n      <td>NaN</td>\n      <td>NaN</td>\n    </tr>\n  </tbody>\n</table>\n</div>",
                        "text/plain": "   Unnamed: 0           Borough  Neighborhood   latitude  longitude\n0           0  North West Delhi  Adarsh Nagar  28.614192  77.071541\n1           1  North West Delhi   Ashok Vihar  28.699453  77.184826\n2           2  North West Delhi       Azadpur  28.707657  77.175547\n3           3  North West Delhi        Bawana  28.799660  77.032885\n4           4  North West Delhi     Begum Pur        NaN        NaN"
                    },
                    "execution_count": 5,
                    "metadata": {},
                    "output_type": "execute_result"
                }
            ],
            "source": "# The code was removed by Watson Studio for sharing."
        },
        {
            "cell_type": "code",
            "execution_count": null,
            "metadata": {},
            "outputs": [],
            "source": ""
        }
    ],
    "metadata": {
        "kernelspec": {
            "display_name": "Python 3.6",
            "language": "python",
            "name": "python3"
        },
        "language_info": {
            "codemirror_mode": {
                "name": "ipython",
                "version": 3
            },
            "file_extension": ".py",
            "mimetype": "text/x-python",
            "name": "python",
            "nbconvert_exporter": "python",
            "pygments_lexer": "ipython3",
            "version": "3.6.9"
        }
    },
    "nbformat": 4,
    "nbformat_minor": 1
}